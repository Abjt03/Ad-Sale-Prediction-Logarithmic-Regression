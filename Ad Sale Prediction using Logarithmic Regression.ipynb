{
 "cells": [
  {
   "cell_type": "markdown",
   "id": "a37ed17f",
   "metadata": {},
   "source": [
    "## Logarithmic Regression - Ad Sale Prediction "
   ]
  },
  {
   "cell_type": "markdown",
   "id": "45a7053c",
   "metadata": {},
   "source": [
    "### Importing Libraries and Digital_Ad Dataset:"
   ]
  },
  {
   "cell_type": "code",
   "execution_count": 2,
   "id": "d4f1b14a",
   "metadata": {},
   "outputs": [],
   "source": [
    "import numpy as np\n",
    "import pandas as pd"
   ]
  },
  {
   "cell_type": "code",
   "execution_count": 3,
   "id": "8d8f8d4d",
   "metadata": {},
   "outputs": [],
   "source": [
    "ad_data = pd.read_csv('DigitalAd_dataset.csv')"
   ]
  },
  {
   "cell_type": "markdown",
   "id": "5aeda581",
   "metadata": {},
   "source": [
    "### Description of the Dataset:"
   ]
  },
  {
   "cell_type": "code",
   "execution_count": 12,
   "id": "954ae043",
   "metadata": {},
   "outputs": [
    {
     "name": "stdout",
     "output_type": "stream",
     "text": [
      "<class 'pandas.core.frame.DataFrame'>\n",
      "RangeIndex: 400 entries, 0 to 399\n",
      "Data columns (total 3 columns):\n",
      " #   Column  Non-Null Count  Dtype\n",
      "---  ------  --------------  -----\n",
      " 0   Age     400 non-null    int64\n",
      " 1   Salary  400 non-null    int64\n",
      " 2   Status  400 non-null    int64\n",
      "dtypes: int64(3)\n",
      "memory usage: 9.5 KB\n"
     ]
    }
   ],
   "source": [
    "ad_data.info()"
   ]
  },
  {
   "cell_type": "code",
   "execution_count": 8,
   "id": "593c1dd1",
   "metadata": {},
   "outputs": [
    {
     "data": {
      "text/plain": [
       "Age       0\n",
       "Salary    0\n",
       "Status    0\n",
       "dtype: int64"
      ]
     },
     "execution_count": 8,
     "metadata": {},
     "output_type": "execute_result"
    }
   ],
   "source": [
    "ad_data.isna().sum()"
   ]
  },
  {
   "cell_type": "code",
   "execution_count": 4,
   "id": "5dd22f3e",
   "metadata": {},
   "outputs": [
    {
     "data": {
      "text/html": [
       "<div>\n",
       "<style scoped>\n",
       "    .dataframe tbody tr th:only-of-type {\n",
       "        vertical-align: middle;\n",
       "    }\n",
       "\n",
       "    .dataframe tbody tr th {\n",
       "        vertical-align: top;\n",
       "    }\n",
       "\n",
       "    .dataframe thead th {\n",
       "        text-align: right;\n",
       "    }\n",
       "</style>\n",
       "<table border=\"1\" class=\"dataframe\">\n",
       "  <thead>\n",
       "    <tr style=\"text-align: right;\">\n",
       "      <th></th>\n",
       "      <th>Age</th>\n",
       "      <th>Salary</th>\n",
       "      <th>Status</th>\n",
       "    </tr>\n",
       "  </thead>\n",
       "  <tbody>\n",
       "    <tr>\n",
       "      <th>0</th>\n",
       "      <td>18</td>\n",
       "      <td>82000</td>\n",
       "      <td>0</td>\n",
       "    </tr>\n",
       "    <tr>\n",
       "      <th>1</th>\n",
       "      <td>29</td>\n",
       "      <td>80000</td>\n",
       "      <td>0</td>\n",
       "    </tr>\n",
       "    <tr>\n",
       "      <th>2</th>\n",
       "      <td>47</td>\n",
       "      <td>25000</td>\n",
       "      <td>1</td>\n",
       "    </tr>\n",
       "    <tr>\n",
       "      <th>3</th>\n",
       "      <td>45</td>\n",
       "      <td>26000</td>\n",
       "      <td>1</td>\n",
       "    </tr>\n",
       "    <tr>\n",
       "      <th>4</th>\n",
       "      <td>46</td>\n",
       "      <td>28000</td>\n",
       "      <td>1</td>\n",
       "    </tr>\n",
       "  </tbody>\n",
       "</table>\n",
       "</div>"
      ],
      "text/plain": [
       "   Age  Salary  Status\n",
       "0   18   82000       0\n",
       "1   29   80000       0\n",
       "2   47   25000       1\n",
       "3   45   26000       1\n",
       "4   46   28000       1"
      ]
     },
     "execution_count": 4,
     "metadata": {},
     "output_type": "execute_result"
    }
   ],
   "source": [
    "ad_data.head()"
   ]
  },
  {
   "cell_type": "code",
   "execution_count": 5,
   "id": "0e5d9242",
   "metadata": {
    "scrolled": true
   },
   "outputs": [
    {
     "data": {
      "text/html": [
       "<div>\n",
       "<style scoped>\n",
       "    .dataframe tbody tr th:only-of-type {\n",
       "        vertical-align: middle;\n",
       "    }\n",
       "\n",
       "    .dataframe tbody tr th {\n",
       "        vertical-align: top;\n",
       "    }\n",
       "\n",
       "    .dataframe thead th {\n",
       "        text-align: right;\n",
       "    }\n",
       "</style>\n",
       "<table border=\"1\" class=\"dataframe\">\n",
       "  <thead>\n",
       "    <tr style=\"text-align: right;\">\n",
       "      <th></th>\n",
       "      <th>Age</th>\n",
       "      <th>Salary</th>\n",
       "      <th>Status</th>\n",
       "    </tr>\n",
       "  </thead>\n",
       "  <tbody>\n",
       "    <tr>\n",
       "      <th>count</th>\n",
       "      <td>400.000000</td>\n",
       "      <td>400.000000</td>\n",
       "      <td>400.000000</td>\n",
       "    </tr>\n",
       "    <tr>\n",
       "      <th>mean</th>\n",
       "      <td>37.655000</td>\n",
       "      <td>69742.500000</td>\n",
       "      <td>0.357500</td>\n",
       "    </tr>\n",
       "    <tr>\n",
       "      <th>std</th>\n",
       "      <td>10.482877</td>\n",
       "      <td>34096.960282</td>\n",
       "      <td>0.479864</td>\n",
       "    </tr>\n",
       "    <tr>\n",
       "      <th>min</th>\n",
       "      <td>18.000000</td>\n",
       "      <td>15000.000000</td>\n",
       "      <td>0.000000</td>\n",
       "    </tr>\n",
       "    <tr>\n",
       "      <th>25%</th>\n",
       "      <td>29.750000</td>\n",
       "      <td>43000.000000</td>\n",
       "      <td>0.000000</td>\n",
       "    </tr>\n",
       "    <tr>\n",
       "      <th>50%</th>\n",
       "      <td>37.000000</td>\n",
       "      <td>70000.000000</td>\n",
       "      <td>0.000000</td>\n",
       "    </tr>\n",
       "    <tr>\n",
       "      <th>75%</th>\n",
       "      <td>46.000000</td>\n",
       "      <td>88000.000000</td>\n",
       "      <td>1.000000</td>\n",
       "    </tr>\n",
       "    <tr>\n",
       "      <th>max</th>\n",
       "      <td>60.000000</td>\n",
       "      <td>150000.000000</td>\n",
       "      <td>1.000000</td>\n",
       "    </tr>\n",
       "  </tbody>\n",
       "</table>\n",
       "</div>"
      ],
      "text/plain": [
       "              Age         Salary      Status\n",
       "count  400.000000     400.000000  400.000000\n",
       "mean    37.655000   69742.500000    0.357500\n",
       "std     10.482877   34096.960282    0.479864\n",
       "min     18.000000   15000.000000    0.000000\n",
       "25%     29.750000   43000.000000    0.000000\n",
       "50%     37.000000   70000.000000    0.000000\n",
       "75%     46.000000   88000.000000    1.000000\n",
       "max     60.000000  150000.000000    1.000000"
      ]
     },
     "execution_count": 5,
     "metadata": {},
     "output_type": "execute_result"
    }
   ],
   "source": [
    "ad_data.describe()"
   ]
  },
  {
   "cell_type": "markdown",
   "id": "607e4298",
   "metadata": {},
   "source": [
    "### Segregating Input/Output Variables and Splitting Train/Test Data:"
   ]
  },
  {
   "cell_type": "code",
   "execution_count": 16,
   "id": "d9a39c5c",
   "metadata": {},
   "outputs": [],
   "source": [
    "X = ad_data.iloc[:, :-1].values\n",
    "Y = ad_data.iloc[:, -1].values"
   ]
  },
  {
   "cell_type": "code",
   "execution_count": 23,
   "id": "b47332dc",
   "metadata": {},
   "outputs": [
    {
     "name": "stdout",
     "output_type": "stream",
     "text": [
      "[[   18 82000]\n",
      " [   29 80000]] [0 0]\n"
     ]
    }
   ],
   "source": [
    "print(X[:2], Y[:2])"
   ]
  },
  {
   "cell_type": "code",
   "execution_count": 24,
   "id": "964ddcf1",
   "metadata": {},
   "outputs": [],
   "source": [
    "from sklearn.model_selection import train_test_split"
   ]
  },
  {
   "cell_type": "code",
   "execution_count": 41,
   "id": "716a2b64",
   "metadata": {},
   "outputs": [
    {
     "name": "stdout",
     "output_type": "stream",
     "text": [
      "(300, 2) (100, 2)\n"
     ]
    }
   ],
   "source": [
    "X_train, X_test, Y_train, Y_test = train_test_split(X, Y, test_size = 0.25, random_state = 42)\n",
    "print(X_train.shape, X_test.shape)"
   ]
  },
  {
   "cell_type": "markdown",
   "id": "b7b18f13",
   "metadata": {},
   "source": [
    "### Standardization of values to Mean=0 and SD=1: "
   ]
  },
  {
   "cell_type": "code",
   "execution_count": 42,
   "id": "8240a8ad",
   "metadata": {},
   "outputs": [],
   "source": [
    "from sklearn.preprocessing import StandardScaler"
   ]
  },
  {
   "cell_type": "code",
   "execution_count": 43,
   "id": "d5bf4975",
   "metadata": {},
   "outputs": [],
   "source": [
    "sc = StandardScaler()\n",
    "X1_train = sc.fit_transform(X_train) \n",
    "X1_test = sc.transform(X_test) "
   ]
  },
  {
   "cell_type": "markdown",
   "id": "1d69ad2e",
   "metadata": {},
   "source": [
    "### Training and Testing:"
   ]
  },
  {
   "cell_type": "code",
   "execution_count": 44,
   "id": "d4cb4b2d",
   "metadata": {},
   "outputs": [],
   "source": [
    "from sklearn.linear_model import LogisticRegression"
   ]
  },
  {
   "cell_type": "code",
   "execution_count": 45,
   "id": "b35e9c41",
   "metadata": {},
   "outputs": [],
   "source": [
    "model1 = LogisticRegression(random_state = 0)\n",
    "model2 = LogisticRegression(random_state = 0)"
   ]
  },
  {
   "cell_type": "code",
   "execution_count": 46,
   "id": "f22da134",
   "metadata": {},
   "outputs": [
    {
     "data": {
      "text/plain": [
       "LogisticRegression(random_state=0)"
      ]
     },
     "execution_count": 46,
     "metadata": {},
     "output_type": "execute_result"
    }
   ],
   "source": [
    "model1.fit(X_train, Y_train)\n",
    "model2.fit(X1_train, Y_train)"
   ]
  },
  {
   "cell_type": "code",
   "execution_count": 47,
   "id": "1b745060",
   "metadata": {},
   "outputs": [],
   "source": [
    "Y_pred = model1.predict(X_test)\n",
    "Y1_pred = model2.predict(X1_test)"
   ]
  },
  {
   "cell_type": "markdown",
   "id": "f978ada4",
   "metadata": {},
   "source": [
    "### Results:"
   ]
  },
  {
   "cell_type": "code",
   "execution_count": 48,
   "id": "82bd747d",
   "metadata": {},
   "outputs": [],
   "source": [
    "from sklearn.metrics import classification_report"
   ]
  },
  {
   "cell_type": "code",
   "execution_count": 49,
   "id": "9f58debb",
   "metadata": {},
   "outputs": [
    {
     "name": "stdout",
     "output_type": "stream",
     "text": [
      "              precision    recall  f1-score   support\n",
      "\n",
      "           0    0.67416   0.88235   0.76433        68\n",
      "           1    0.27273   0.09375   0.13953        32\n",
      "\n",
      "    accuracy                        0.63000       100\n",
      "   macro avg    0.47344   0.48805   0.45193       100\n",
      "weighted avg    0.54570   0.63000   0.56440       100\n",
      "\n"
     ]
    }
   ],
   "source": [
    "print(classification_report(Y_test, Y_pred, digits = 5))"
   ]
  },
  {
   "cell_type": "code",
   "execution_count": 50,
   "id": "b58554eb",
   "metadata": {},
   "outputs": [
    {
     "name": "stdout",
     "output_type": "stream",
     "text": [
      "              precision    recall  f1-score   support\n",
      "\n",
      "           0    0.81250   0.95588   0.87838        68\n",
      "           1    0.85000   0.53125   0.65385        32\n",
      "\n",
      "    accuracy                        0.82000       100\n",
      "   macro avg    0.83125   0.74357   0.76611       100\n",
      "weighted avg    0.82450   0.82000   0.80653       100\n",
      "\n"
     ]
    }
   ],
   "source": [
    "print(classification_report(Y_test, Y1_pred, digits = 5))"
   ]
  },
  {
   "cell_type": "markdown",
   "id": "8f8b4603",
   "metadata": {},
   "source": [
    "### An accuracy shift from 63% to 82% is noticed after Standardization of values"
   ]
  },
  {
   "attachments": {},
   "cell_type": "markdown",
   "id": "d5b156c3",
   "metadata": {},
   "source": [
    "Given that the Logistic regression model uses two predictor variables: age and income. The range of age might be between 18 and 100, while the range of income might be between 20 and 500. In this case, the income variable may have a larger coefficient than the age variable, even if age is actually a stronger predictor of the outcome.\n",
    "\n",
    "By standardizing the predictor variables to have the same mean and standard deviation, we are putting them on the same scale. This allows us to compare the magnitude of the coefficients across the predictor variables and more accurately assess their relative importance in predicting the outcome variable.\n",
    "\n",
    "Note: We do not undergo any Feature Extraction or Selection due to only fewer dimensions or features present in the model."
   ]
  }
 ],
 "metadata": {
  "kernelspec": {
   "display_name": "Python 3 (ipykernel)",
   "language": "python",
   "name": "python3"
  },
  "language_info": {
   "codemirror_mode": {
    "name": "ipython",
    "version": 3
   },
   "file_extension": ".py",
   "mimetype": "text/x-python",
   "name": "python",
   "nbconvert_exporter": "python",
   "pygments_lexer": "ipython3",
   "version": "3.9.12"
  }
 },
 "nbformat": 4,
 "nbformat_minor": 5
}
